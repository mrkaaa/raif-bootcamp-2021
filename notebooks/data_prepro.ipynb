{
 "cells": [
  {
   "cell_type": "code",
   "execution_count": 56,
   "metadata": {},
   "outputs": [],
   "source": [
    "import math\n",
    "import matplotlib as plt\n",
    "from typing import List\n",
    "from typing import Tuple\n",
    "\n",
    "import gym\n",
    "import numpy as np\n",
    "from gym import logger\n",
    "from gym import spaces\n",
    "from gym.utils import seeding\n",
    "import pandas as pd\n",
    "from sklearn.preprocessing import MinMaxScaler\n",
    "\n",
    "\n",
    "import ipywidgets as widgets\n",
    "\n",
    "from transformers import BertTokenizer, BertModel\n",
    "import torch\n",
    "\n",
    "tokenizer = BertTokenizer.from_pretrained('DeepPavlov/rubert-base-cased-sentence')\n",
    "model = BertModel.from_pretrained('DeepPavlov/rubert-base-cased-sentence')\n"
   ]
  },
  {
   "cell_type": "code",
   "execution_count": 57,
   "metadata": {},
   "outputs": [],
   "source": [
    "data_1 = pd.read_json('/Users/ruagmn9/PycharmProjects/raif-bootcamp-2021/data/umnik.json')\n"
   ]
  },
  {
   "cell_type": "markdown",
   "metadata": {},
   "source": [
    "# umnik data"
   ]
  },
  {
   "cell_type": "code",
   "execution_count": 58,
   "metadata": {},
   "outputs": [],
   "source": [
    "variants = pd.concat([data_1['variants'].apply(lambda x: x[i]) for i in range(4)],axis=1)\n",
    "variants.columns = ['variant_1', 'variant_2', 'variant_3', 'variant_4']\n",
    "\n",
    "data_1[variants.columns] = variants\n",
    "\n",
    "data_1['tags'] = data_1['tags'].apply(lambda x: ' '.join(x))\n",
    "\n",
    "data_1['reward'] = data_1.tags.apply(lambda x: x.split('руб.',1)[0][-15:])\n",
    "\n",
    "data_1['reward'] = data_1['reward'].str.replace(\" \", \"\").str.extract('(\\d+)').astype(np.int32)\n",
    "\n",
    "data_1 = data_1[(data_1.reward > 1) & (data_1.reward < 0.8e6)]\n",
    "\n",
    "data_1 = data_1.drop(columns=['variants', 'tags'])"
   ]
  },
  {
   "cell_type": "code",
   "execution_count": 59,
   "metadata": {},
   "outputs": [
    {
     "data": {
      "text/html": [
       "<div>\n",
       "<style scoped>\n",
       "    .dataframe tbody tr th:only-of-type {\n",
       "        vertical-align: middle;\n",
       "    }\n",
       "\n",
       "    .dataframe tbody tr th {\n",
       "        vertical-align: top;\n",
       "    }\n",
       "\n",
       "    .dataframe thead th {\n",
       "        text-align: right;\n",
       "    }\n",
       "</style>\n",
       "<table border=\"1\" class=\"dataframe\">\n",
       "  <thead>\n",
       "    <tr style=\"text-align: right;\">\n",
       "      <th></th>\n",
       "      <th>question</th>\n",
       "      <th>answer_index</th>\n",
       "      <th>variant_1</th>\n",
       "      <th>variant_2</th>\n",
       "      <th>variant_3</th>\n",
       "      <th>variant_4</th>\n",
       "      <th>reward</th>\n",
       "    </tr>\n",
       "  </thead>\n",
       "  <tbody>\n",
       "    <tr>\n",
       "      <th>0</th>\n",
       "      <td>Кто с кем остаётся один на один, когда назнача...</td>\n",
       "      <td>0</td>\n",
       "      <td>Игрок с вратарём</td>\n",
       "      <td>Вратарь с тренером</td>\n",
       "      <td>Судья с болельщиком</td>\n",
       "      <td>Комментатор со зрителем</td>\n",
       "      <td>1000</td>\n",
       "    </tr>\n",
       "    <tr>\n",
       "      <th>1</th>\n",
       "      <td>Что растёт на грядках?</td>\n",
       "      <td>1</td>\n",
       "      <td>Винегрет</td>\n",
       "      <td>Салат</td>\n",
       "      <td>Пудинг</td>\n",
       "      <td>Компот</td>\n",
       "      <td>500</td>\n",
       "    </tr>\n",
       "    <tr>\n",
       "      <th>2</th>\n",
       "      <td>Что умеет птичка оляпка?</td>\n",
       "      <td>0</td>\n",
       "      <td>бегать по дну</td>\n",
       "      <td>вить гнездо в песке</td>\n",
       "      <td>скользить по льду</td>\n",
       "      <td>охотиться ночью</td>\n",
       "      <td>25000</td>\n",
       "    </tr>\n",
       "    <tr>\n",
       "      <th>3</th>\n",
       "      <td>Сколько кубических сантиметров в кубометре?</td>\n",
       "      <td>0</td>\n",
       "      <td>миллион</td>\n",
       "      <td>тысяча</td>\n",
       "      <td>десять тысяч</td>\n",
       "      <td>сто тысяч</td>\n",
       "      <td>15000</td>\n",
       "    </tr>\n",
       "    <tr>\n",
       "      <th>4</th>\n",
       "      <td>Землю какой страны топчут священные коровы?</td>\n",
       "      <td>0</td>\n",
       "      <td>Индия</td>\n",
       "      <td>Япония</td>\n",
       "      <td>Турция</td>\n",
       "      <td>Тунис</td>\n",
       "      <td>5000</td>\n",
       "    </tr>\n",
       "  </tbody>\n",
       "</table>\n",
       "</div>"
      ],
      "text/plain": [
       "                                            question  answer_index  \\\n",
       "0  Кто с кем остаётся один на один, когда назнача...             0   \n",
       "1                             Что растёт на грядках?             1   \n",
       "2                           Что умеет птичка оляпка?             0   \n",
       "3        Сколько кубических сантиметров в кубометре?             0   \n",
       "4        Землю какой страны топчут священные коровы?             0   \n",
       "\n",
       "          variant_1            variant_2            variant_3  \\\n",
       "0  Игрок с вратарём   Вратарь с тренером  Судья с болельщиком   \n",
       "1          Винегрет                Салат               Пудинг   \n",
       "2     бегать по дну  вить гнездо в песке    скользить по льду   \n",
       "3           миллион               тысяча         десять тысяч   \n",
       "4             Индия               Япония               Турция   \n",
       "\n",
       "                 variant_4  reward  \n",
       "0  Комментатор со зрителем    1000  \n",
       "1                   Компот     500  \n",
       "2          охотиться ночью   25000  \n",
       "3                сто тысяч   15000  \n",
       "4                    Тунис    5000  "
      ]
     },
     "execution_count": 59,
     "metadata": {},
     "output_type": "execute_result"
    }
   ],
   "source": [
    "data_1.head()"
   ]
  },
  {
   "cell_type": "markdown",
   "metadata": {},
   "source": [
    "\n",
    "## boot data"
   ]
  },
  {
   "cell_type": "code",
   "execution_count": 60,
   "metadata": {},
   "outputs": [],
   "source": [
    "data_2 = pd.read_csv('/Users/ruagmn9/PycharmProjects/raif-bootcamp-2021/data/boot_camp_train.csv')\n",
    "\n"
   ]
  },
  {
   "cell_type": "code",
   "execution_count": 61,
   "metadata": {},
   "outputs": [],
   "source": [
    "data_2 = data_2.rename(columns={'Вопрос': 'question',\n",
    "                    '1': 'variant_1',\n",
    "                    '2': 'variant_2',\n",
    "                    '3': 'variant_3',\n",
    "                    '4': 'variant_4',\n",
    "                    'Правильный ответ': 'answer_index'}).drop(columns=['Unnamed: 0'])"
   ]
  },
  {
   "cell_type": "code",
   "execution_count": 62,
   "metadata": {},
   "outputs": [],
   "source": [
    "elements = [100, 200, 300, 500, 1000, 2000, 3000, 5000, 8000, 10000 ]\n",
    "data_2['reward'] = np.random.choice(elements, data_2.shape[0])"
   ]
  },
  {
   "cell_type": "code",
   "execution_count": 63,
   "metadata": {},
   "outputs": [],
   "source": [
    "data_2['answer_index'] -=1"
   ]
  },
  {
   "cell_type": "code",
   "execution_count": 64,
   "metadata": {},
   "outputs": [],
   "source": [
    "data_2 = data_2.dropna()"
   ]
  },
  {
   "cell_type": "code",
   "execution_count": 65,
   "metadata": {},
   "outputs": [
    {
     "name": "stderr",
     "output_type": "stream",
     "text": [
      "/Users/ruagmn9/Library/Caches/pypoetry/virtualenvs/deeppavlov-test-8ztkSxjl-py3.7/lib/python3.7/site-packages/ipykernel_launcher.py:1: FutureWarning: Sorting because non-concatenation axis is not aligned. A future version\n",
      "of pandas will change to not sort by default.\n",
      "\n",
      "To accept the future behavior, pass 'sort=False'.\n",
      "\n",
      "To retain the current behavior and silence the warning, pass 'sort=True'.\n",
      "\n",
      "  \"\"\"Entry point for launching an IPython kernel.\n"
     ]
    }
   ],
   "source": [
    "data = pd.concat([data_1, data_2],axis=0)"
   ]
  },
  {
   "cell_type": "code",
   "execution_count": 84,
   "metadata": {},
   "outputs": [],
   "source": [
    "def str_to_embbeding(series, max_len = None):\n",
    "    # todo to same padding\n",
    "    # tokenize\n",
    "    tokenized = series.apply((lambda x: tokenizer.encode(x, add_special_tokens=True)))\n",
    "    # 2  padding\n",
    "    if max_len is None:\n",
    "        max_len=0\n",
    "        for i in tokenized.values:\n",
    "            if len(i) > max_len:\n",
    "                max_len = len(i)\n",
    "\n",
    "    padded = np.array([i + [0]*(max_len-len(i)) for i in tokenized.values])\n",
    "    # Masking\n",
    "    attention_mask = np.where(padded != 0, 1, 0)\n",
    "\n",
    "    input_ids = torch.tensor(padded)  \n",
    "    attention_mask = torch.tensor(attention_mask)\n",
    "    \n",
    "    #predict\n",
    "    with torch.no_grad():\n",
    "        last_hidden_states = model(input_ids, attention_mask=attention_mask)\n",
    "\n",
    "    features = last_hidden_states[0][:,0,:].numpy()\n",
    "\n",
    "    return  pd.DataFrame(features).to_numpy().tolist()"
   ]
  },
  {
   "cell_type": "code",
   "execution_count": 85,
   "metadata": {},
   "outputs": [
    {
     "name": "stdout",
     "output_type": "stream",
     "text": [
      "CPU times: user 17min 5s, sys: 6min 39s, total: 23min 44s\n",
      "Wall time: 22min 59s\n"
     ]
    }
   ],
   "source": [
    "%%time\n",
    "data['emb_question'] = str_to_embbeding(data['question'])"
   ]
  },
  {
   "cell_type": "code",
   "execution_count": 86,
   "metadata": {},
   "outputs": [
    {
     "name": "stdout",
     "output_type": "stream",
     "text": [
      "CPU times: user 5min 23s, sys: 49.2 s, total: 6min 12s\n",
      "Wall time: 5min 9s\n"
     ]
    }
   ],
   "source": [
    "%%time\n",
    "data['emb_variant_1'] = str_to_embbeding(data['variant_1'])"
   ]
  },
  {
   "cell_type": "code",
   "execution_count": 87,
   "metadata": {},
   "outputs": [
    {
     "name": "stdout",
     "output_type": "stream",
     "text": [
      "CPU times: user 6min 12s, sys: 57 s, total: 7min 9s\n",
      "Wall time: 5min 56s\n"
     ]
    }
   ],
   "source": [
    "%%time\n",
    "data['emb_variant_2'] = str_to_embbeding(data['variant_2'])"
   ]
  },
  {
   "cell_type": "code",
   "execution_count": 88,
   "metadata": {},
   "outputs": [
    {
     "name": "stdout",
     "output_type": "stream",
     "text": [
      "CPU times: user 6min 16s, sys: 57 s, total: 7min 13s\n",
      "Wall time: 5min 58s\n"
     ]
    }
   ],
   "source": [
    "%%time\n",
    "data['emb_variant_3'] = str_to_embbeding(data['variant_3'])"
   ]
  },
  {
   "cell_type": "code",
   "execution_count": 89,
   "metadata": {},
   "outputs": [
    {
     "name": "stdout",
     "output_type": "stream",
     "text": [
      "CPU times: user 6min 20s, sys: 59.4 s, total: 7min 19s\n",
      "Wall time: 6min 7s\n"
     ]
    }
   ],
   "source": [
    "%%time\n",
    "data['emb_variant_4'] = str_to_embbeding(data['variant_4'])"
   ]
  },
  {
   "cell_type": "markdown",
   "metadata": {},
   "source": [
    "max_len"
   ]
  },
  {
   "cell_type": "code",
   "execution_count": 91,
   "metadata": {},
   "outputs": [],
   "source": [
    "dt = data.drop(columns=['question', 'variant_1', 'variant_2', 'variant_3', 'variant_4'])"
   ]
  },
  {
   "cell_type": "code",
   "execution_count": 92,
   "metadata": {},
   "outputs": [
    {
     "data": {
      "text/html": [
       "<div>\n",
       "<style scoped>\n",
       "    .dataframe tbody tr th:only-of-type {\n",
       "        vertical-align: middle;\n",
       "    }\n",
       "\n",
       "    .dataframe tbody tr th {\n",
       "        vertical-align: top;\n",
       "    }\n",
       "\n",
       "    .dataframe thead th {\n",
       "        text-align: right;\n",
       "    }\n",
       "</style>\n",
       "<table border=\"1\" class=\"dataframe\">\n",
       "  <thead>\n",
       "    <tr style=\"text-align: right;\">\n",
       "      <th></th>\n",
       "      <th>answer_index</th>\n",
       "      <th>reward</th>\n",
       "      <th>emb_question</th>\n",
       "      <th>emb_variant_1</th>\n",
       "      <th>emb_variant_2</th>\n",
       "      <th>emb_variant_3</th>\n",
       "      <th>emb_variant_4</th>\n",
       "    </tr>\n",
       "  </thead>\n",
       "  <tbody>\n",
       "    <tr>\n",
       "      <th>0</th>\n",
       "      <td>0.0</td>\n",
       "      <td>1000</td>\n",
       "      <td>[-0.10200223326683044, -1.4214788675308228, 0....</td>\n",
       "      <td>[-0.5423567295074463, -0.8888402581214905, 0.2...</td>\n",
       "      <td>[-0.9303133487701416, -0.40989843010902405, -0...</td>\n",
       "      <td>[-0.7537140846252441, -0.5191406607627869, -0....</td>\n",
       "      <td>[-1.007237434387207, -0.1734929084777832, 0.17...</td>\n",
       "    </tr>\n",
       "    <tr>\n",
       "      <th>1</th>\n",
       "      <td>1.0</td>\n",
       "      <td>500</td>\n",
       "      <td>[-0.4592267870903015, -0.34668463468551636, -0...</td>\n",
       "      <td>[-0.7928611636161804, -0.18484751880168915, -0...</td>\n",
       "      <td>[0.08326661586761475, -0.23326626420021057, -0...</td>\n",
       "      <td>[-0.5638677477836609, -0.13601256906986237, -0...</td>\n",
       "      <td>[-0.6220911145210266, -0.5006184577941895, -0....</td>\n",
       "    </tr>\n",
       "    <tr>\n",
       "      <th>2</th>\n",
       "      <td>0.0</td>\n",
       "      <td>25000</td>\n",
       "      <td>[-0.2850097417831421, -0.2843513488769531, -0....</td>\n",
       "      <td>[-0.47498512268066406, 0.6844162344932556, -0....</td>\n",
       "      <td>[-0.21893970668315887, 0.40654319524765015, -0...</td>\n",
       "      <td>[-0.28078991174697876, -1.3100969791412354, 0....</td>\n",
       "      <td>[-0.16805793344974518, -0.8447439074516296, -0...</td>\n",
       "    </tr>\n",
       "    <tr>\n",
       "      <th>3</th>\n",
       "      <td>0.0</td>\n",
       "      <td>15000</td>\n",
       "      <td>[-0.7940405607223511, 0.36787229776382446, -0....</td>\n",
       "      <td>[-0.5132683515548706, 0.19531279802322388, -0....</td>\n",
       "      <td>[-0.5314285159111023, 0.36896395683288574, -0....</td>\n",
       "      <td>[-0.7507291436195374, 0.3132028877735138, -0.2...</td>\n",
       "      <td>[-0.8408227562904358, 0.392622709274292, -0.01...</td>\n",
       "    </tr>\n",
       "    <tr>\n",
       "      <th>4</th>\n",
       "      <td>0.0</td>\n",
       "      <td>5000</td>\n",
       "      <td>[-0.6078025698661804, -0.07159502059221268, 0....</td>\n",
       "      <td>[-0.35910868644714355, 0.12508320808410645, 0....</td>\n",
       "      <td>[-1.0322422981262207, 0.5259677171707153, 0.63...</td>\n",
       "      <td>[-0.4389076828956604, 0.2178155481815338, 0.60...</td>\n",
       "      <td>[-0.118193618953228, -0.26641929149627686, -0....</td>\n",
       "    </tr>\n",
       "  </tbody>\n",
       "</table>\n",
       "</div>"
      ],
      "text/plain": [
       "   answer_index  reward                                       emb_question  \\\n",
       "0           0.0    1000  [-0.10200223326683044, -1.4214788675308228, 0....   \n",
       "1           1.0     500  [-0.4592267870903015, -0.34668463468551636, -0...   \n",
       "2           0.0   25000  [-0.2850097417831421, -0.2843513488769531, -0....   \n",
       "3           0.0   15000  [-0.7940405607223511, 0.36787229776382446, -0....   \n",
       "4           0.0    5000  [-0.6078025698661804, -0.07159502059221268, 0....   \n",
       "\n",
       "                                       emb_variant_1  \\\n",
       "0  [-0.5423567295074463, -0.8888402581214905, 0.2...   \n",
       "1  [-0.7928611636161804, -0.18484751880168915, -0...   \n",
       "2  [-0.47498512268066406, 0.6844162344932556, -0....   \n",
       "3  [-0.5132683515548706, 0.19531279802322388, -0....   \n",
       "4  [-0.35910868644714355, 0.12508320808410645, 0....   \n",
       "\n",
       "                                       emb_variant_2  \\\n",
       "0  [-0.9303133487701416, -0.40989843010902405, -0...   \n",
       "1  [0.08326661586761475, -0.23326626420021057, -0...   \n",
       "2  [-0.21893970668315887, 0.40654319524765015, -0...   \n",
       "3  [-0.5314285159111023, 0.36896395683288574, -0....   \n",
       "4  [-1.0322422981262207, 0.5259677171707153, 0.63...   \n",
       "\n",
       "                                       emb_variant_3  \\\n",
       "0  [-0.7537140846252441, -0.5191406607627869, -0....   \n",
       "1  [-0.5638677477836609, -0.13601256906986237, -0...   \n",
       "2  [-0.28078991174697876, -1.3100969791412354, 0....   \n",
       "3  [-0.7507291436195374, 0.3132028877735138, -0.2...   \n",
       "4  [-0.4389076828956604, 0.2178155481815338, 0.60...   \n",
       "\n",
       "                                       emb_variant_4  \n",
       "0  [-1.007237434387207, -0.1734929084777832, 0.17...  \n",
       "1  [-0.6220911145210266, -0.5006184577941895, -0....  \n",
       "2  [-0.16805793344974518, -0.8447439074516296, -0...  \n",
       "3  [-0.8408227562904358, 0.392622709274292, -0.01...  \n",
       "4  [-0.118193618953228, -0.26641929149627686, -0....  "
      ]
     },
     "execution_count": 92,
     "metadata": {},
     "output_type": "execute_result"
    }
   ],
   "source": [
    "dt.head()"
   ]
  },
  {
   "cell_type": "code",
   "execution_count": 93,
   "metadata": {},
   "outputs": [],
   "source": [
    "dt['state'] = dt.drop(columns=['answer_index', 'reward']).to_numpy().tolist()\n",
    "\n",
    "dt.state = dt.state.apply(lambda x: np.array(x))"
   ]
  },
  {
   "cell_type": "code",
   "execution_count": 94,
   "metadata": {},
   "outputs": [],
   "source": [
    "scaler = MinMaxScaler()\n",
    "\n",
    "\n",
    "dt['reward'] = scaler.fit_transform(np.log1p(dt.reward).to_numpy().reshape(-1,1))"
   ]
  },
  {
   "cell_type": "code",
   "execution_count": 96,
   "metadata": {},
   "outputs": [],
   "source": [
    "dt[['reward', 'answer_index', 'state']].to_pickle('/Users/ruagmn9/PycharmProjects/raif-bootcamp-2021/data/data_train.pkl')"
   ]
  },
  {
   "cell_type": "code",
   "execution_count": null,
   "metadata": {},
   "outputs": [],
   "source": []
  },
  {
   "cell_type": "code",
   "execution_count": null,
   "metadata": {},
   "outputs": [],
   "source": []
  },
  {
   "cell_type": "code",
   "execution_count": null,
   "metadata": {},
   "outputs": [],
   "source": []
  }
 ],
 "metadata": {
  "kernelspec": {
   "display_name": "Python 3 (ipykernel)",
   "language": "python",
   "name": "python3"
  },
  "language_info": {
   "codemirror_mode": {
    "name": "ipython",
    "version": 3
   },
   "file_extension": ".py",
   "mimetype": "text/x-python",
   "name": "python",
   "nbconvert_exporter": "python",
   "pygments_lexer": "ipython3",
   "version": "3.7.3"
  },
  "toc": {
   "base_numbering": 1,
   "nav_menu": {},
   "number_sections": true,
   "sideBar": true,
   "skip_h1_title": false,
   "title_cell": "Table of Contents",
   "title_sidebar": "Contents",
   "toc_cell": false,
   "toc_position": {},
   "toc_section_display": true,
   "toc_window_display": false
  }
 },
 "nbformat": 4,
 "nbformat_minor": 1
}
