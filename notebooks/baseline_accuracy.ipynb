{
 "cells": [
  {
   "cell_type": "code",
   "execution_count": 42,
   "metadata": {},
   "outputs": [],
   "source": [
    "import numpy as np"
   ]
  },
  {
   "cell_type": "code",
   "execution_count": 6,
   "metadata": {
    "pycharm": {
     "is_executing": false
    }
   },
   "outputs": [],
   "source": [
    "import logging\n",
    "import time\n",
    "import pandas as pd\n",
    "from colorama import Fore\n",
    "\n",
    "from deeppavlov import build_model, configs\n",
    "\n",
    "\n",
    "logging.basicConfig(level=logging.ERROR)\n",
    "\n",
    "\n",
    "def timed_inference(model, question: str, context: str, print_q_v: bool = True):\n",
    "    start_time = time.perf_counter()\n",
    "    prediction = model([context], [question])[0][0]\n",
    "    predict_time = time.perf_counter() - start_time\n",
    "\n",
    "    if print_q_v:\n",
    "        print(Fore.BLUE + f\"Question: {question}\")\n",
    "        print(Fore.YELLOW + f\"Variants: {context}\")\n",
    "    print(Fore.GREEN + f\"[{predict_time:.3f}] Predicted: `{prediction}`\")\n"
   ]
  },
  {
   "cell_type": "code",
   "execution_count": 3,
   "metadata": {
    "scrolled": true
   },
   "outputs": [
    {
     "name": "stderr",
     "output_type": "stream",
     "text": [
      "[nltk_data] Downloading package punkt to /Users/ruagmn9/nltk_data...\n",
      "[nltk_data]   Package punkt is already up-to-date!\n",
      "[nltk_data] Downloading package stopwords to\n",
      "[nltk_data]     /Users/ruagmn9/nltk_data...\n",
      "[nltk_data]   Package stopwords is already up-to-date!\n",
      "[nltk_data] Downloading package perluniprops to\n",
      "[nltk_data]     /Users/ruagmn9/nltk_data...\n",
      "[nltk_data]   Package perluniprops is already up-to-date!\n",
      "[nltk_data] Downloading package nonbreaking_prefixes to\n",
      "[nltk_data]     /Users/ruagmn9/nltk_data...\n",
      "[nltk_data]   Package nonbreaking_prefixes is already up-to-date!\n",
      "2021-11-12 13:32:44.414 INFO in 'deeppavlov.models.preprocessors.squad_preprocessor'['squad_preprocessor'] at line 310: SquadVocabEmbedder: loading saved tokens vocab from /Users/ruagmn9/.deeppavlov/models/squad_model/emb/vocab_embedder.pckl\n",
      "INFO:deeppavlov.models.preprocessors.squad_preprocessor:SquadVocabEmbedder: loading saved tokens vocab from /Users/ruagmn9/.deeppavlov/models/squad_model/emb/vocab_embedder.pckl\n",
      "2021-11-12 13:32:44.750 INFO in 'deeppavlov.models.preprocessors.squad_preprocessor'['squad_preprocessor'] at line 310: SquadVocabEmbedder: loading saved chars vocab from /Users/ruagmn9/.deeppavlov/models/squad_model/emb/char_vocab_embedder.pckl\n",
      "INFO:deeppavlov.models.preprocessors.squad_preprocessor:SquadVocabEmbedder: loading saved chars vocab from /Users/ruagmn9/.deeppavlov/models/squad_model/emb/char_vocab_embedder.pckl\n",
      "2021-11-12 13:32:48.105148: I tensorflow/core/platform/cpu_feature_guard.cc:142] Your CPU supports instructions that this TensorFlow binary was not compiled to use: AVX2 FMA\n",
      "2021-11-12 13:32:48.127170: I tensorflow/compiler/xla/service/service.cc:168] XLA service 0x7fe8343410a0 initialized for platform Host (this does not guarantee that XLA will be used). Devices:\n",
      "2021-11-12 13:32:48.127186: I tensorflow/compiler/xla/service/service.cc:176]   StreamExecutor device (0): Host, Default Version\n",
      "2021-11-12 13:32:48.722 INFO in 'deeppavlov.core.layers.tf_layers'['tf_layers'] at line 619: \n",
      "Warning! tf.contrib.cudnn_rnn.CudnnCompatibleGRUCell is used. It is okay for inference mode, but if you train your model with this cell it could NOT be used with tf.contrib.cudnn_rnn.CudnnGRUCell later. \n",
      "INFO:deeppavlov.core.layers.tf_layers:\n",
      "Warning! tf.contrib.cudnn_rnn.CudnnCompatibleGRUCell is used. It is okay for inference mode, but if you train your model with this cell it could NOT be used with tf.contrib.cudnn_rnn.CudnnGRUCell later. \n",
      "2021-11-12 13:32:49.468 INFO in 'deeppavlov.core.layers.tf_layers'['tf_layers'] at line 619: \n",
      "Warning! tf.contrib.cudnn_rnn.CudnnCompatibleGRUCell is used. It is okay for inference mode, but if you train your model with this cell it could NOT be used with tf.contrib.cudnn_rnn.CudnnGRUCell later. \n",
      "INFO:deeppavlov.core.layers.tf_layers:\n",
      "Warning! tf.contrib.cudnn_rnn.CudnnCompatibleGRUCell is used. It is okay for inference mode, but if you train your model with this cell it could NOT be used with tf.contrib.cudnn_rnn.CudnnGRUCell later. \n",
      "2021-11-12 13:32:49.556 INFO in 'deeppavlov.core.layers.tf_layers'['tf_layers'] at line 619: \n",
      "Warning! tf.contrib.cudnn_rnn.CudnnCompatibleGRUCell is used. It is okay for inference mode, but if you train your model with this cell it could NOT be used with tf.contrib.cudnn_rnn.CudnnGRUCell later. \n",
      "INFO:deeppavlov.core.layers.tf_layers:\n",
      "Warning! tf.contrib.cudnn_rnn.CudnnCompatibleGRUCell is used. It is okay for inference mode, but if you train your model with this cell it could NOT be used with tf.contrib.cudnn_rnn.CudnnGRUCell later. \n",
      "2021-11-12 13:32:49.618 INFO in 'deeppavlov.core.layers.tf_layers'['tf_layers'] at line 619: \n",
      "Warning! tf.contrib.cudnn_rnn.CudnnCompatibleGRUCell is used. It is okay for inference mode, but if you train your model with this cell it could NOT be used with tf.contrib.cudnn_rnn.CudnnGRUCell later. \n",
      "INFO:deeppavlov.core.layers.tf_layers:\n",
      "Warning! tf.contrib.cudnn_rnn.CudnnCompatibleGRUCell is used. It is okay for inference mode, but if you train your model with this cell it could NOT be used with tf.contrib.cudnn_rnn.CudnnGRUCell later. \n",
      "2021-11-12 13:33:00.921 INFO in 'deeppavlov.core.models.tf_model'['tf_model'] at line 51: [loading model from /Users/ruagmn9/.deeppavlov/models/squad_model/model]\n",
      "INFO:deeppavlov.core.models.tf_model:[loading model from /Users/ruagmn9/.deeppavlov/models/squad_model/model]\n"
     ]
    }
   ],
   "source": [
    "model = build_model(configs.squad.squad)"
   ]
  },
  {
   "cell_type": "code",
   "execution_count": 4,
   "metadata": {},
   "outputs": [
    {
     "name": "stdout",
     "output_type": "stream",
     "text": [
      "\u001b[34mQuestion: Раз два три четыре пять вышел зайчик что делать?\n",
      "\u001b[33mVariants: Поплавать. Погулять. Покурить. Попрыгать.\n",
      "\u001b[32m[1.667] Predicted: `Погулять`\n"
     ]
    }
   ],
   "source": [
    "timed_inference(model, \"Раз два три четыре пять вышел зайчик что делать?\", \"Поплавать. Погулять. Покурить. Попрыгать.\")"
   ]
  },
  {
   "cell_type": "code",
   "execution_count": 70,
   "metadata": {},
   "outputs": [],
   "source": [
    "data = pd.read_csv('/Users/ruagmn9/PycharmProjects/raif-bootcamp-2021/data/boot_camp_train.csv')"
   ]
  },
  {
   "cell_type": "code",
   "execution_count": 71,
   "metadata": {},
   "outputs": [],
   "source": [
    "data = data.rename(columns = {'Вопрос': 'question', 'Правильный ответ': 'target'})"
   ]
  },
  {
   "cell_type": "code",
   "execution_count": 72,
   "metadata": {},
   "outputs": [],
   "source": [
    "data = data.dropna(subset=['question']).fillna('Пусто')"
   ]
  },
  {
   "cell_type": "code",
   "execution_count": 73,
   "metadata": {},
   "outputs": [],
   "source": [
    "data['context'] = data[['1', '2', '3', '4']].agg('. '.join, axis=1)"
   ]
  },
  {
   "cell_type": "code",
   "execution_count": 74,
   "metadata": {},
   "outputs": [
    {
     "name": "stdout",
     "output_type": "stream",
     "text": [
      "CPU times: user 6min 59s, sys: 2min 8s, total: 9min 7s\n",
      "Wall time: 1min 46s\n"
     ]
    }
   ],
   "source": [
    "%%time\n",
    "\n",
    "data['predict'] = data.apply(lambda x: model([x['context']], [x['question']])[0][0], axis=1)"
   ]
  },
  {
   "cell_type": "code",
   "execution_count": 75,
   "metadata": {
    "scrolled": true
   },
   "outputs": [
    {
     "data": {
      "text/html": [
       "<div>\n",
       "<style scoped>\n",
       "    .dataframe tbody tr th:only-of-type {\n",
       "        vertical-align: middle;\n",
       "    }\n",
       "\n",
       "    .dataframe tbody tr th {\n",
       "        vertical-align: top;\n",
       "    }\n",
       "\n",
       "    .dataframe thead th {\n",
       "        text-align: right;\n",
       "    }\n",
       "</style>\n",
       "<table border=\"1\" class=\"dataframe\">\n",
       "  <thead>\n",
       "    <tr style=\"text-align: right;\">\n",
       "      <th></th>\n",
       "      <th>Unnamed: 0</th>\n",
       "      <th>question</th>\n",
       "      <th>1</th>\n",
       "      <th>2</th>\n",
       "      <th>3</th>\n",
       "      <th>4</th>\n",
       "      <th>target</th>\n",
       "      <th>context</th>\n",
       "      <th>predict</th>\n",
       "    </tr>\n",
       "  </thead>\n",
       "  <tbody>\n",
       "    <tr>\n",
       "      <th>0</th>\n",
       "      <td>0</td>\n",
       "      <td>Как же, согласно поговорке, все-таки там, где ...</td>\n",
       "      <td>Тепло</td>\n",
       "      <td>Сытно</td>\n",
       "      <td>Хорошо</td>\n",
       "      <td>Весело</td>\n",
       "      <td>3.0</td>\n",
       "      <td>Тепло. Сытно. Хорошо. Весело</td>\n",
       "      <td>Хорошо</td>\n",
       "    </tr>\n",
       "    <tr>\n",
       "      <th>1</th>\n",
       "      <td>4</td>\n",
       "      <td>Какую спортивную игру начинают не с подачи?</td>\n",
       "      <td>Теннис</td>\n",
       "      <td>Волейбол</td>\n",
       "      <td>Баскетбол</td>\n",
       "      <td>Бадминтон</td>\n",
       "      <td>3.0</td>\n",
       "      <td>Теннис. Волейбол. Баскетбол. Бадминтон</td>\n",
       "      <td>Волейбол</td>\n",
       "    </tr>\n",
       "    <tr>\n",
       "      <th>2</th>\n",
       "      <td>9</td>\n",
       "      <td>На чьи стихи написана песня «День победы?»</td>\n",
       "      <td>Добронравов</td>\n",
       "      <td>Матусовский</td>\n",
       "      <td>Харитонов</td>\n",
       "      <td>Ошанин</td>\n",
       "      <td>3.0</td>\n",
       "      <td>Добронравов. Матусовский. Харитонов. Ошанин</td>\n",
       "      <td>Матусовский</td>\n",
       "    </tr>\n",
       "    <tr>\n",
       "      <th>3</th>\n",
       "      <td>10</td>\n",
       "      <td>Кто регулярно тушит свет на канале НТВ?</td>\n",
       "      <td>Лев Новожёнов</td>\n",
       "      <td>Леонид Парфёнов</td>\n",
       "      <td>Елена Ханга</td>\n",
       "      <td>Анатолий Чубайс</td>\n",
       "      <td>1.0</td>\n",
       "      <td>Лев Новожёнов. Леонид Парфёнов. Елена Ханга. А...</td>\n",
       "      <td>Лев</td>\n",
       "    </tr>\n",
       "    <tr>\n",
       "      <th>4</th>\n",
       "      <td>11</td>\n",
       "      <td>По мнению пословицы, плох солдат, который не м...</td>\n",
       "      <td>Маршалом</td>\n",
       "      <td>Генералом</td>\n",
       "      <td>Полковником</td>\n",
       "      <td>Дембелем</td>\n",
       "      <td>2.0</td>\n",
       "      <td>Маршалом. Генералом. Полковником. Дембелем</td>\n",
       "      <td>Дембелем</td>\n",
       "    </tr>\n",
       "    <tr>\n",
       "      <th>...</th>\n",
       "      <td>...</td>\n",
       "      <td>...</td>\n",
       "      <td>...</td>\n",
       "      <td>...</td>\n",
       "      <td>...</td>\n",
       "      <td>...</td>\n",
       "      <td>...</td>\n",
       "      <td>...</td>\n",
       "      <td>...</td>\n",
       "    </tr>\n",
       "    <tr>\n",
       "      <th>8995</th>\n",
       "      <td>9266</td>\n",
       "      <td>Как называется хищное растение?</td>\n",
       "      <td>«Венерина мухоловка»</td>\n",
       "      <td>«Марсова пчелоедка»</td>\n",
       "      <td>«Сатурнова клоподавка»</td>\n",
       "      <td>«Юпитеров слепнежуй»</td>\n",
       "      <td>1.0</td>\n",
       "      <td>«Венерина мухоловка». «Марсова пчелоедка». «Са...</td>\n",
       "      <td>мухоловка</td>\n",
       "    </tr>\n",
       "    <tr>\n",
       "      <th>8996</th>\n",
       "      <td>9267</td>\n",
       "      <td>Что бывает у шапки?</td>\n",
       "      <td>«Полянка»</td>\n",
       "      <td>«Тропинка»</td>\n",
       "      <td>«Опушка»</td>\n",
       "      <td>«Чащоба»</td>\n",
       "      <td>3.0</td>\n",
       "      <td>«Полянка». «Тропинка». «Опушка». «Чащоба»</td>\n",
       "      <td>Полянка». «Тропинка</td>\n",
       "    </tr>\n",
       "    <tr>\n",
       "      <th>8997</th>\n",
       "      <td>9268</td>\n",
       "      <td>Что не использовалось для разогрева утюгов раз...</td>\n",
       "      <td>Скипидар</td>\n",
       "      <td>Уголь</td>\n",
       "      <td>Спирт</td>\n",
       "      <td>Электричество</td>\n",
       "      <td>1.0</td>\n",
       "      <td>Скипидар. Уголь. Спирт. Электричество</td>\n",
       "      <td>Скипидар</td>\n",
       "    </tr>\n",
       "    <tr>\n",
       "      <th>8998</th>\n",
       "      <td>9269</td>\n",
       "      <td>В каком турнире капитан команды обычно не выхо...</td>\n",
       "      <td>Кубок Дэвиса по теннису</td>\n",
       "      <td>Кубок Стэнли по хоккею</td>\n",
       "      <td>Кубок Европы по баскетболу</td>\n",
       "      <td>Кубок мира по борьбе</td>\n",
       "      <td>1.0</td>\n",
       "      <td>Кубок Дэвиса по теннису. Кубок Стэнли по хокке...</td>\n",
       "      <td>Дэвиса</td>\n",
       "    </tr>\n",
       "    <tr>\n",
       "      <th>8999</th>\n",
       "      <td>9270</td>\n",
       "      <td>От каких латинских слов образовано слово «Лино...</td>\n",
       "      <td>«Линия» и «Пол»</td>\n",
       "      <td>«Лента» и «Ковёр»</td>\n",
       "      <td>«Лён» и «Масло»</td>\n",
       "      <td>«Лист» и «Плоский»</td>\n",
       "      <td>3.0</td>\n",
       "      <td>«Линия» и «Пол». «Лента» и «Ковёр». «Лён» и «М...</td>\n",
       "      <td>Лён</td>\n",
       "    </tr>\n",
       "  </tbody>\n",
       "</table>\n",
       "<p>8999 rows × 9 columns</p>\n",
       "</div>"
      ],
      "text/plain": [
       "      Unnamed: 0                                           question  \\\n",
       "0              0  Как же, согласно поговорке, все-таки там, где ...   \n",
       "1              4        Какую спортивную игру начинают не с подачи?   \n",
       "2              9         На чьи стихи написана песня «День победы?»   \n",
       "3             10            Кто регулярно тушит свет на канале НТВ?   \n",
       "4             11  По мнению пословицы, плох солдат, который не м...   \n",
       "...          ...                                                ...   \n",
       "8995        9266                    Как называется хищное растение?   \n",
       "8996        9267                                Что бывает у шапки?   \n",
       "8997        9268  Что не использовалось для разогрева утюгов раз...   \n",
       "8998        9269  В каком турнире капитан команды обычно не выхо...   \n",
       "8999        9270  От каких латинских слов образовано слово «Лино...   \n",
       "\n",
       "                            1                       2  \\\n",
       "0                       Тепло                   Сытно   \n",
       "1                      Теннис                Волейбол   \n",
       "2                 Добронравов             Матусовский   \n",
       "3               Лев Новожёнов         Леонид Парфёнов   \n",
       "4                    Маршалом               Генералом   \n",
       "...                       ...                     ...   \n",
       "8995     «Венерина мухоловка»     «Марсова пчелоедка»   \n",
       "8996                «Полянка»              «Тропинка»   \n",
       "8997                 Скипидар                   Уголь   \n",
       "8998  Кубок Дэвиса по теннису  Кубок Стэнли по хоккею   \n",
       "8999          «Линия» и «Пол»       «Лента» и «Ковёр»   \n",
       "\n",
       "                               3                     4  target  \\\n",
       "0                         Хорошо                Весело     3.0   \n",
       "1                      Баскетбол             Бадминтон     3.0   \n",
       "2                      Харитонов                Ошанин     3.0   \n",
       "3                    Елена Ханга       Анатолий Чубайс     1.0   \n",
       "4                    Полковником              Дембелем     2.0   \n",
       "...                          ...                   ...     ...   \n",
       "8995      «Сатурнова клоподавка»  «Юпитеров слепнежуй»     1.0   \n",
       "8996                    «Опушка»              «Чащоба»     3.0   \n",
       "8997                       Спирт         Электричество     1.0   \n",
       "8998  Кубок Европы по баскетболу  Кубок мира по борьбе     1.0   \n",
       "8999             «Лён» и «Масло»    «Лист» и «Плоский»     3.0   \n",
       "\n",
       "                                                context              predict  \n",
       "0                          Тепло. Сытно. Хорошо. Весело               Хорошо  \n",
       "1                Теннис. Волейбол. Баскетбол. Бадминтон             Волейбол  \n",
       "2           Добронравов. Матусовский. Харитонов. Ошанин          Матусовский  \n",
       "3     Лев Новожёнов. Леонид Парфёнов. Елена Ханга. А...                  Лев  \n",
       "4            Маршалом. Генералом. Полковником. Дембелем             Дембелем  \n",
       "...                                                 ...                  ...  \n",
       "8995  «Венерина мухоловка». «Марсова пчелоедка». «Са...            мухоловка  \n",
       "8996          «Полянка». «Тропинка». «Опушка». «Чащоба»  Полянка». «Тропинка  \n",
       "8997              Скипидар. Уголь. Спирт. Электричество             Скипидар  \n",
       "8998  Кубок Дэвиса по теннису. Кубок Стэнли по хокке...               Дэвиса  \n",
       "8999  «Линия» и «Пол». «Лента» и «Ковёр». «Лён» и «М...                  Лён  \n",
       "\n",
       "[8999 rows x 9 columns]"
      ]
     },
     "execution_count": 75,
     "metadata": {},
     "output_type": "execute_result"
    }
   ],
   "source": [
    "data"
   ]
  },
  {
   "cell_type": "code",
   "execution_count": 76,
   "metadata": {},
   "outputs": [],
   "source": [
    "def select_answer_based_on_predict(predict_str,\n",
    "                                  series):\n",
    "    for index, answer in enumerate(series, 1 ):\n",
    "        if predict_str in answer:\n",
    "            return index\n",
    "    return 1"
   ]
  },
  {
   "cell_type": "code",
   "execution_count": 77,
   "metadata": {},
   "outputs": [],
   "source": [
    "data['predict_index'] = data.apply(lambda x: select_answer_based_on_predict(x['predict'],\n",
    "                                                                            x[['1','2', '3', '4']]),\n",
    "                                                                            axis=1)"
   ]
  },
  {
   "cell_type": "code",
   "execution_count": 78,
   "metadata": {},
   "outputs": [],
   "source": [
    "from sklearn.metrics import accuracy_score"
   ]
  },
  {
   "cell_type": "code",
   "execution_count": 81,
   "metadata": {},
   "outputs": [
    {
     "data": {
      "text/plain": [
       "0.2538059784420491"
      ]
     },
     "execution_count": 81,
     "metadata": {},
     "output_type": "execute_result"
    }
   ],
   "source": [
    "accuracy_score(data['target'], data['predict_index'])"
   ]
  },
  {
   "cell_type": "code",
   "execution_count": 83,
   "metadata": {},
   "outputs": [
    {
     "data": {
      "text/plain": [
       "0.24180464496055118"
      ]
     },
     "execution_count": 83,
     "metadata": {},
     "output_type": "execute_result"
    }
   ],
   "source": [
    "accuracy_score(data['target'], np.ones(data.shape[0]))"
   ]
  },
  {
   "cell_type": "code",
   "execution_count": null,
   "metadata": {},
   "outputs": [],
   "source": []
  },
  {
   "cell_type": "code",
   "execution_count": null,
   "metadata": {},
   "outputs": [],
   "source": []
  },
  {
   "cell_type": "code",
   "execution_count": null,
   "metadata": {},
   "outputs": [],
   "source": []
  }
 ],
 "metadata": {
  "kernelspec": {
   "display_name": "Python 3 (ipykernel)",
   "language": "python",
   "name": "python3"
  },
  "language_info": {
   "codemirror_mode": {
    "name": "ipython",
    "version": 3
   },
   "file_extension": ".py",
   "mimetype": "text/x-python",
   "name": "python",
   "nbconvert_exporter": "python",
   "pygments_lexer": "ipython3",
   "version": "3.7.3"
  },
  "toc": {
   "base_numbering": 1,
   "nav_menu": {},
   "number_sections": true,
   "sideBar": true,
   "skip_h1_title": false,
   "title_cell": "Table of Contents",
   "title_sidebar": "Contents",
   "toc_cell": false,
   "toc_position": {},
   "toc_section_display": true,
   "toc_window_display": false
  }
 },
 "nbformat": 4,
 "nbformat_minor": 1
}
