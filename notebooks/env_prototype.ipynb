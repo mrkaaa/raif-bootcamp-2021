{
 "cells": [
  {
   "cell_type": "code",
   "execution_count": 134,
   "metadata": {},
   "outputs": [],
   "source": [
    "import math\n",
    "import matplotlib as plt\n",
    "from typing import List\n",
    "from typing import Tuple\n",
    "\n",
    "import gym\n",
    "import numpy as np\n",
    "from gym import logger\n",
    "from gym import spaces\n",
    "from gym.utils import seeding\n",
    "import pandas as pd\n",
    "from sklearn.preprocessing import MinMaxScaler\n",
    "\n",
    "\n",
    "import ipywidgets as widgets\n",
    "\n",
    "from transformers import BertTokenizer, BertModel\n",
    "import torch\n",
    "\n",
    "tokenizer = BertTokenizer.from_pretrained('DeepPavlov/rubert-base-cased-sentence')\n",
    "model = BertModel.from_pretrained('DeepPavlov/rubert-base-cased-sentence')"
   ]
  },
  {
   "cell_type": "code",
   "execution_count": null,
   "metadata": {},
   "outputs": [],
   "source": []
  },
  {
   "cell_type": "code",
   "execution_count": 69,
   "metadata": {},
   "outputs": [],
   "source": [
    "data = pd.read_json('/Users/ruagmn9/PycharmProjects/raif-bootcamp-2021/data/umnik.json')\n",
    "\n",
    "variants = pd.concat([data['variants'].apply(lambda x: x[i]) for i in range(4)],axis=1)\n",
    "variants.columns = ['variant_1', 'variant_2', 'variant_3', 'variant_4']\n",
    "\n",
    "data[variants.columns] = variants\n",
    "\n",
    "data['tags'] = data['tags'].apply(lambda x: ' '.join(x))\n",
    "\n",
    "data['reward'] = data.tags.apply(lambda x: x.split('руб.',1)[0][-15:])\n",
    "\n",
    "data['reward'] = data['reward'].str.replace(\" \", \"\").str.extract('(\\d+)').astype(np.int32)\n",
    "\n",
    "data = data[(data.reward > 1) & (data.reward < 0.8e6)]\n",
    "\n",
    "data = data.drop(columns=['variants', 'tags'])"
   ]
  },
  {
   "cell_type": "code",
   "execution_count": 132,
   "metadata": {},
   "outputs": [],
   "source": [
    "def str_to_embbeding(series):\n",
    "    # todo to same padding\n",
    "    # tokenize\n",
    "    tokenized = series.apply((lambda x: tokenizer.encode(x, add_special_tokens=True)))\n",
    "    # 2  padding\n",
    "    max_len = 0\n",
    "    for i in tokenized.values:\n",
    "        if len(i) > max_len:\n",
    "            max_len = len(i)\n",
    "\n",
    "    padded = np.array([i + [0]*(max_len-len(i)) for i in tokenized.values])\n",
    "    # Masking\n",
    "    attention_mask = np.where(padded != 0, 1, 0)\n",
    "\n",
    "    input_ids = torch.tensor(padded)  \n",
    "    attention_mask = torch.tensor(attention_mask)\n",
    "    \n",
    "    #predict\n",
    "    with torch.no_grad():\n",
    "        last_hidden_states = model(input_ids, attention_mask=attention_mask)\n",
    "\n",
    "    features = last_hidden_states[0][:,0,:].numpy()\n",
    "\n",
    "    return  pd.DataFrame(features).to_numpy().tolist()"
   ]
  },
  {
   "cell_type": "code",
   "execution_count": 84,
   "metadata": {},
   "outputs": [],
   "source": [
    "data['emb_question'] = str_to_embbeding(data['question'])\n",
    "\n",
    "data['emb_variant_1'] = str_to_embbeding(data['variant_1'])\n",
    "data['emb_variant_2'] = str_to_embbeding(data['variant_2'])\n",
    "data['emb_variant_3'] = str_to_embbeding(data['variant_3'])\n",
    "data['emb_variant_4'] = str_to_embbeding(data['variant_4'])"
   ]
  },
  {
   "cell_type": "code",
   "execution_count": 87,
   "metadata": {},
   "outputs": [],
   "source": [
    "data = data.drop(columns=['question', 'variant_1', 'variant_2', 'variant_3', 'variant_4'])\n",
    "\n",
    "data['state'] = data.drop(columns=['answer_index', 'reward']).to_numpy().tolist()\n",
    "\n",
    "dt.state = dt.state.apply(lambda x: np.array(x))"
   ]
  },
  {
   "cell_type": "code",
   "execution_count": 135,
   "metadata": {},
   "outputs": [],
   "source": [
    "scaler = MinMaxScaler()\n",
    "\n",
    "\n",
    "dt['reward'] = scaler.fit_transform(np.log1p(dt.reward).to_numpy().reshape(-1,1))\n",
    "\n",
    "dt[['reward', 'answer_index', 'state']].to_pickle('/Users/ruagmn9/PycharmProjects/raif-bootcamp-2021/data/embedded_data.pkl')"
   ]
  },
  {
   "cell_type": "code",
   "execution_count": 150,
   "metadata": {},
   "outputs": [],
   "source": [
    "dt = pd.read_pickle('embedded_data.pkl')"
   ]
  },
  {
   "cell_type": "code",
   "execution_count": 151,
   "metadata": {},
   "outputs": [],
   "source": [
    "\"\"\"\n",
    "train env\n",
    "\"\"\"\n",
    "\n",
    "import gym\n",
    "import numpy as np\n",
    "from gym import spaces\n",
    "from gym.utils import seeding\n",
    "\n",
    "\n",
    "class MainEnv(gym.Env):\n",
    "    \"\"\"\n",
    "    the main goal is\n",
    "    \"\"\"\n",
    "\n",
    "    def __init__(self,\n",
    "                 data,\n",
    "                 action_dim=4\n",
    "                 ):\n",
    "\n",
    "        self.data_dict = data\n",
    "        gb = data.groupby('reward')\n",
    "        data_dict = {x: gb.get_group(x) for x in gb.groups}\n",
    "        self.data_dict = data_dict\n",
    "\n",
    "        self.seed()\n",
    "        self.steps_beyond_done = None\n",
    "        self.current_session = None\n",
    "        self.np_random = None\n",
    "        self._iter = 0\n",
    "\n",
    "        self.action_space = spaces.Discrete(\n",
    "            action_dim\n",
    "            )\n",
    "        self.iter_len = len(data_dict)\n",
    "        self.levels = list(data_dict.keys())\n",
    "\n",
    "        self._observation_space = None\n",
    "        self.state_cols = None\n",
    "        self.current_level = None\n",
    "        # high = self.train_features[self.state_cols].max(axis=0).values\n",
    "        # self.observation_space = spaces.Box(-high, high, dtype=np.float32)\n",
    "        self.current_reward = 0\n",
    "\n",
    "    @property\n",
    "    def observation_space(self):\n",
    "        high = self.data_dict[next(iter(self.data_dict))].state.iloc[0]\n",
    "        return spaces.Box(-high, high, dtype=np.float32)\n",
    "\n",
    "    def seed(self, seed=None):\n",
    "        self.np_random, seed = seeding.np_random(seed)\n",
    "\n",
    "    def step(self, action: float):\n",
    "\n",
    "        done = self.is_done()\n",
    "\n",
    "        if action == self.current_level['answer_index'].iloc[0]:\n",
    "            reward = self.current_level['reward'].iloc[0]\n",
    "            self.current_reward = reward\n",
    "        elif action == 4:\n",
    "            done = True\n",
    "            reward = self.current_reward\n",
    "        else:\n",
    "            reward = 0\n",
    "            done = True\n",
    "\n",
    "        level = self.levels[self.iterator]\n",
    "        self.current_level = self.data_dict[level].sample(1)\n",
    "\n",
    "        state = self._get_state()\n",
    "        if not done:\n",
    "            return state, reward, done, {}\n",
    "\n",
    "        elif self.steps_beyond_done is None:\n",
    "            self.steps_beyond_done = 0\n",
    "        else:\n",
    "            if self.steps_beyond_done == 0:\n",
    "                print(\n",
    "                    \"You are calling 'step()' even though this environment \"\n",
    "                    \"has already returned done = True. You should always call \"\n",
    "                    \"'reset()' once you receive 'done = True' -- any further \"\n",
    "                    \"steps are undefined behavior.\")\n",
    "            self.steps_beyond_done += 1\n",
    "            reward = 0.\n",
    "\n",
    "        return state, reward, done, {}\n",
    "\n",
    "    def is_done(self):\n",
    "        return self._iter == self.iter_len - 1\n",
    "\n",
    "    @property\n",
    "    def iterator(self):\n",
    "        self._iter = (self._iter + 1) % self.iter_len\n",
    "        return self._iter\n",
    "\n",
    "    def _get_state(self):\n",
    "        return (self.current_level['state']).iloc[0]\n",
    "\n",
    "    def reset(self):\n",
    "        \"\"\"\n",
    "        sample emitent id\n",
    "        \"\"\"\n",
    "\n",
    "        self.steps_beyond_done = None\n",
    "        self.current_reward = 0\n",
    "        self._iter = 0\n",
    "        level = self.levels[self._iter]\n",
    "        self.current_level = self.data_dict[level].sample(1)\n",
    "\n",
    "        return self._get_state()"
   ]
  },
  {
   "cell_type": "code",
   "execution_count": 152,
   "metadata": {},
   "outputs": [],
   "source": [
    "env = MainEnv(dt)\n"
   ]
  },
  {
   "cell_type": "code",
   "execution_count": 158,
   "metadata": {},
   "outputs": [
    {
     "data": {
      "text/plain": [
       "array([ 4.60222363e-05, -1.72591054e+00,  1.08200979e+00, -3.52031052e-01,\n",
       "       -5.11471331e-01])"
      ]
     },
     "execution_count": 158,
     "metadata": {},
     "output_type": "execute_result"
    }
   ],
   "source": [
    "state[0][:5]"
   ]
  },
  {
   "cell_type": "code",
   "execution_count": 163,
   "metadata": {
    "scrolled": true
   },
   "outputs": [
    {
     "name": "stdout",
     "output_type": "stream",
     "text": [
      "[-0.1666079  -0.15910499  0.39075381 -0.40866804 -0.33198822] 0 True\n",
      "[ 0.09215854 -0.85184926 -0.22114967 -0.36713228 -0.39433855] 0 True\n",
      "[-0.46650845 -1.59769881  0.2385564  -0.17435637 -0.88047463] 0 True\n",
      "[-0.28783214  0.31482112 -0.45269984 -0.60699511 -0.25548476] 0 True\n",
      "[-0.19080602 -0.81654906  0.45044118 -0.60847211 -1.16273761] 0 True\n",
      "[-0.59890926  0.20519266  1.61185551 -0.64738327 -0.92345721] 0 True\n",
      "[-0.16038889  0.36259979  0.20558883 -0.95559734  0.00549053] 0 True\n",
      "[-0.60422921 -0.57331944 -0.4248988  -0.76547676  0.02314907] 0 True\n",
      "[-0.08803634 -0.32092762 -0.18132989 -0.78330684 -0.87422466] 0.0 False\n",
      "[-0.52494681 -0.88954484  0.81242764  0.14403158 -0.74984878] 0 True\n",
      "[-0.63790303 -0.33330089  0.44721937 -0.31062505 -0.1350895 ] 0 True\n",
      "[-0.44947165 -1.03878248  0.20184521 -0.53930414 -1.13021028] 0 True\n",
      "[-0.46650845 -1.59769881  0.2385564  -0.17435637 -0.88047463] 0.0 False\n",
      "[-0.48424703 -1.58185041  0.750579   -0.34632874 -0.76225847] 0 True\n",
      "[ 0.09215854 -0.85184926 -0.22114967 -0.36713228 -0.39433855] 0 True\n",
      "[-0.76020837  0.82834959  0.08446415  0.41195452 -1.19055212] 0 True\n",
      "[-0.20044711 -0.99344677  0.10545807 -0.31301889 -0.64172155] 0.0 False\n",
      "[-0.46853578 -0.05013204  0.45319667  0.38264629 -0.70582432] 0.0 True\n",
      "[-0.20044711 -0.99344677  0.10545807 -0.31301889 -0.64172155] 0 True\n",
      "[-0.46650845 -1.59769881  0.2385564  -0.17435637 -0.88047463] 0 True\n",
      "[-0.14379725 -0.69215828  0.08080949 -0.77568835 -0.00476378] 0 True\n",
      "[-0.60422921 -0.57331944 -0.4248988  -0.76547676  0.02314907] 0 True\n",
      "[-0.27910274 -0.62780797  0.29880071 -0.64702088 -0.11274761] 0.0 False\n",
      "[-0.64634168 -0.30568418  0.22715904 -0.51656878 -1.12829471] 0.0808939207108268 False\n",
      "[-0.32097733 -1.11051822  0.30262184 -0.43853027 -0.57766509] 0.12835997620921857 False\n",
      "[-0.54649025 -0.88374859  0.05289938 -0.2707434  -0.87083489] 0.18824961670822105 False\n",
      "[ 0.1195298   0.27053869 -0.04593222 -0.10999996 -0.38278735] 0 True\n"
     ]
    }
   ],
   "source": [
    "eval_episodes = 20\n",
    "max_episode_steps = 20\n",
    "for _ in range(eval_episodes):\n",
    "    avg_session_reward = 0.\n",
    "    state, done = env.reset(), False\n",
    "    t = 0\n",
    "    while not done and t < max_episode_steps:\n",
    "        action = np.random.randint(5)\n",
    "        state, reward, done, _ = env.step(action)\n",
    "        print(state[0][:5], reward, done)\n",
    "        avg_session_reward += reward\n",
    "        t += 1\n"
   ]
  },
  {
   "cell_type": "code",
   "execution_count": null,
   "metadata": {},
   "outputs": [],
   "source": []
  }
 ],
 "metadata": {
  "kernelspec": {
   "display_name": "Python 3 (ipykernel)",
   "language": "python",
   "name": "python3"
  },
  "language_info": {
   "codemirror_mode": {
    "name": "ipython",
    "version": 3
   },
   "file_extension": ".py",
   "mimetype": "text/x-python",
   "name": "python",
   "nbconvert_exporter": "python",
   "pygments_lexer": "ipython3",
   "version": "3.7.3"
  },
  "toc": {
   "base_numbering": 1,
   "nav_menu": {},
   "number_sections": true,
   "sideBar": true,
   "skip_h1_title": false,
   "title_cell": "Table of Contents",
   "title_sidebar": "Contents",
   "toc_cell": false,
   "toc_position": {},
   "toc_section_display": true,
   "toc_window_display": false
  }
 },
 "nbformat": 4,
 "nbformat_minor": 1
}
